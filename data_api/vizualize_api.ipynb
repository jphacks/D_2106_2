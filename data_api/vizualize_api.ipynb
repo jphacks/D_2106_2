{
 "cells": [
  {
   "cell_type": "code",
   "execution_count": 1,
   "metadata": {},
   "outputs": [],
   "source": [
    "import numpy as np\n",
    "import matplotlib.pyplot as plt\n",
    "from sklearn.mixture import GaussianMixture\n",
    "from sklearn.cluster import KMeans"
   ]
  },
  {
   "cell_type": "code",
   "execution_count": 2,
   "metadata": {},
   "outputs": [],
   "source": [
    "def produce_random_gps(show=False):\n",
    "    n = 10\n",
    "\n",
    "    max_ = 0.3\n",
    "    min_ = -max_\n",
    "\n",
    "    longitude = np.random.normal(loc=0, scale=max_, size=n)\n",
    "    latitude = np.random.normal(loc=0, scale=max_, size=n)\n",
    "    gps = np.zeros((n, 2))\n",
    "    gps[:, 0] = longitude\n",
    "    gps[:, 1] = latitude\n",
    "    \n",
    "    if show:\n",
    "        plt.scatter(gps[:, 0], gps[:, 1])\n",
    "        plt.xlim(min_*3, max_*3)\n",
    "        plt.ylim(min_*3, max_*3)\n",
    "        plt.grid(True)\n",
    "        plt.show()\n",
    "    \n",
    "    return gps"
   ]
  },
  {
   "cell_type": "code",
   "execution_count": 3,
   "metadata": {},
   "outputs": [],
   "source": [
    "def produce_gps_request():\n",
    "    gps = produce_random_gps(True)\n",
    "    gps_request = {\"gps_data\": []}\n",
    "    for i, g in enumerate(gps):\n",
    "        gps_data_ = {\n",
    "            \"gps_id\": -1,\n",
    "            \"longitude\": -1,\n",
    "            \"latitude\": -1,\n",
    "        }\n",
    "        gps_data_[\"gps_id\"] = i + np.random.randint(500)\n",
    "        gps_data_[\"longitude\"] = g[0] * 20 + 130\n",
    "        gps_data_[\"latitude\"] = g[1] *  15 + 30\n",
    "        gps_request[\"gps_data\"].append(gps_data_)\n",
    "    return gps_request"
   ]
  },
  {
   "cell_type": "code",
   "execution_count": 4,
   "metadata": {},
   "outputs": [],
   "source": [
    "def request2numpy(gps_request):\n",
    "    gps_data = gps_request[\"gps_data\"]\n",
    "    gps_data_numpy = np.zeros((len(gps_data), 3))\n",
    "    for i, g in enumerate(gps_data):\n",
    "        gps_data_numpy[i, 0] = g[\"gps_id\"]\n",
    "        gps_data_numpy[i, 1] = g[\"longitude\"]\n",
    "        gps_data_numpy[i:, 2] = g[\"latitude\"]\n",
    "    return gps_data_numpy"
   ]
  },
  {
   "cell_type": "code",
   "execution_count": 5,
   "metadata": {},
   "outputs": [],
   "source": [
    "def produce_fake_gps_data(gps_data):\n",
    "    n = len(gps_data)\n",
    "    fake_n = 50\n",
    "    new_gps = np.zeros((n * fake_n, 2))\n",
    "    # new_gps = np.array((n , 2))\n",
    "    for i in range(n):\n",
    "        new_x = np.random.normal(loc=(gps_data[i, 1:3]), scale=(1, 1), size=(fake_n, 2))\n",
    "    #     new_gps = np.concatenate([new_gps, new_x])\n",
    "        new_gps[i*fake_n: (i+1)*fake_n, :] = new_x\n",
    "    return new_gps"
   ]
  },
  {
   "cell_type": "code",
   "execution_count": 6,
   "metadata": {},
   "outputs": [],
   "source": [
    "def request2response(request_gps_data, show=False):\n",
    "    gps_data = request2numpy(request_gps_data)\n",
    "    n = len(gps_data)\n",
    "    new_gps = produce_fake_gps_data(gps_data)\n",
    "    gps = gps_data[:, 1:3]\n",
    "\n",
    "    # Gaussian Mixture Model\n",
    "    best_bic = np.inf\n",
    "    best_n_components = -1\n",
    "    for i in range(n+1):\n",
    "        if i == 0:\n",
    "            continue\n",
    "        gmm = GaussianMixture(n_components=i, covariance_type=\"full\").fit(new_gps)\n",
    "        bic = gmm.bic(new_gps)\n",
    "        if bic < best_bic:\n",
    "            best_bic = bic\n",
    "            best_n_components = i\n",
    "\n",
    "    gmm = GaussianMixture(n_components=best_n_components).fit(new_gps)\n",
    "\n",
    "    if show:\n",
    "        label = gmm.predict(new_gps)\n",
    "        for i in set(label):\n",
    "            _gps = new_gps[label==i]\n",
    "            plt.scatter(_gps[:, 0], _gps[:, 1], label=i)\n",
    "        # plt.xlim(min_*2, max_*2)\n",
    "        # plt.ylim(min_*2, max_*2)\n",
    "        plt.grid(True)\n",
    "        plt.legend()\n",
    "        plt.show()\n",
    "\n",
    "    label = gmm.predict(gps)\n",
    "    used_label= list(set(label))\n",
    "    label2coo = {}\n",
    "    for i in used_label:\n",
    "        mean = gps[label == i].mean(axis=0)\n",
    "        label2coo[i] = mean\n",
    "\n",
    "    if show:\n",
    "        ## REAL DATA ##\n",
    "        plt.title(\"REAL GPS Data\")\n",
    "        plt.scatter(gps[:, 0], gps[:, 1])\n",
    "        plt.grid(True)\n",
    "        plt.show()\n",
    "\n",
    "        plt.title(\"Clustering GPS Data\")\n",
    "        for i in set(label):\n",
    "            _gps = gps[label==i]\n",
    "            plt.scatter(_gps[:, 0], _gps[:, 1], label=i)\n",
    "        plt.grid(True)\n",
    "        plt.legend()\n",
    "        plt.show()\n",
    "\n",
    "        plt.title(\"Center of Clustering GPS Data\")\n",
    "        for i in used_label:\n",
    "            mean = label2coo[i]\n",
    "            plt.scatter(mean[0], mean[1], label=np.arange(best_n_components)[i])\n",
    "        plt.grid(True)\n",
    "        plt.legend()\n",
    "        plt.show()\n",
    "        \n",
    "    \n",
    "    response_gps_data = {\"cluster_data\": []}\n",
    "    for i in used_label:\n",
    "        gps_data_ = {\n",
    "            \"cluster_id\": -1,\n",
    "            \"gps_id_belongs_to\": [],\n",
    "            \"mean_longitude\": -1,\n",
    "            \"mean_latitude\": -1\n",
    "        }\n",
    "        gps_data_[\"cluster_id\"] = int(i)\n",
    "        gps_data_[\"gps_id_belongs_to\"] = [int(gps_id) for gps_id in gps_data[label == i][:, 0]]\n",
    "        gps_data_[\"mean_longitude\"] = float(label2coo[i][0])\n",
    "        gps_data_[\"mean_latitude\"] = float(label2coo[i][1])\n",
    "        response_gps_data[\"cluster_data\"].append(gps_data_)\n",
    "        \n",
    "    return response_gps_data"
   ]
  },
  {
   "cell_type": "code",
   "execution_count": 7,
   "metadata": {},
   "outputs": [
    {
     "data": {
      "image/png": "[encoded data removed]",
      "text/plain": [
       "<Figure size 432x288 with 1 Axes>"
      ]
     },
     "metadata": {
      "needs_background": "light"
     },
     "output_type": "display_data"
    }
   ],
   "source": [
    "request_gps_data = produce_gps_request()"
   ]
  },
  {
   "cell_type": "code",
   "execution_count": 8,
   "metadata": {},
   "outputs": [
    {
     "data": {
      "image/png": "[encoded data removed]",
      "text/plain": [
       "<Figure size 432x288 with 1 Axes>"
      ]
     },
     "metadata": {
      "needs_background": "light"
     },
     "output_type": "display_data"
    },
    {
     "data": {
      "image/png": "[encoded data removed]",
      "text/plain": [
       "<Figure size 432x288 with 1 Axes>"
      ]
     },
     "metadata": {
      "needs_background": "light"
     },
     "output_type": "display_data"
    },
    {
     "data": {
      "image/png": "[encoded data removed]",
      "text/plain": [
       "<Figure size 432x288 with 1 Axes>"
      ]
     },
     "metadata": {
      "needs_background": "light"
     },
     "output_type": "display_data"
    },
    {
     "data": {
      "image/png": "[encoded data removed]",
      "text/plain": [
       "<Figure size 432x288 with 1 Axes>"
      ]
     },
     "metadata": {
      "needs_background": "light"
     },
     "output_type": "display_data"
    }
   ],
   "source": [
    "response_gps_data = request2response(request_gps_data, True)"
   ]
  },
  {
   "cell_type": "code",
   "execution_count": 245,
   "metadata": {},
   "outputs": [
    {
     "data": {
      "text/plain": [
       "{'gps_data': [{'gps_id': 424,\n",
       "   'longitude': 132.38861502919835,\n",
       "   'latitude': 43.00436700090802},\n",
       "  {'gps_id': 389,\n",
       "   'longitude': 133.5891858797156,\n",
       "   'latitude': 35.665700639220944},\n",
       "  {'gps_id': 20,\n",
       "   'longitude': 136.08714991746174,\n",
       "   'latitude': 30.212420358410892},\n",
       "  {'gps_id': 166,\n",
       "   'longitude': 127.38447796682586,\n",
       "   'latitude': 27.23870422508873},\n",
       "  {'gps_id': 237,\n",
       "   'longitude': 135.41421478795212,\n",
       "   'latitude': 23.184136057365226},\n",
       "  {'gps_id': 247,\n",
       "   'longitude': 131.70886712534687,\n",
       "   'latitude': 30.574323680904243},\n",
       "  {'gps_id': 9,\n",
       "   'longitude': 127.70655777737329,\n",
       "   'latitude': 28.945129015849005},\n",
       "  {'gps_id': 316,\n",
       "   'longitude': 124.06195972613097,\n",
       "   'latitude': 32.45786400186775},\n",
       "  {'gps_id': 64,\n",
       "   'longitude': 145.73610932106251,\n",
       "   'latitude': 30.152256972384553},\n",
       "  {'gps_id': 211,\n",
       "   'longitude': 131.87341225787605,\n",
       "   'latitude': 31.91785658296999}]}"
      ]
     },
     "execution_count": 245,
     "metadata": {},
     "output_type": "execute_result"
    }
   ],
   "source": [
    "request_gps_data"
   ]
  },
  {
   "cell_type": "code",
   "execution_count": 243,
   "metadata": {},
   "outputs": [
    {
     "data": {
      "text/plain": [
       "{'cluster_data': [{'cluster_id': 0,\n",
       "   'gps_id_belongs_to': [166, 9],\n",
       "   'mean_longitude': 127.54551787209957,\n",
       "   'mean_latitude': 28.091916620468865},\n",
       "  {'cluster_id': 1,\n",
       "   'gps_id_belongs_to': [247, 211],\n",
       "   'mean_longitude': 131.79113969161148,\n",
       "   'mean_latitude': 31.246090131937116},\n",
       "  {'cluster_id': 2,\n",
       "   'gps_id_belongs_to': [64],\n",
       "   'mean_longitude': 145.73610932106251,\n",
       "   'mean_latitude': 30.152256972384553},\n",
       "  {'cluster_id': 3,\n",
       "   'gps_id_belongs_to': [424],\n",
       "   'mean_longitude': 132.38861502919835,\n",
       "   'mean_latitude': 43.00436700090802},\n",
       "  {'cluster_id': 4,\n",
       "   'gps_id_belongs_to': [316],\n",
       "   'mean_longitude': 124.06195972613097,\n",
       "   'mean_latitude': 32.45786400186775},\n",
       "  {'cluster_id': 5,\n",
       "   'gps_id_belongs_to': [237],\n",
       "   'mean_longitude': 135.41421478795212,\n",
       "   'mean_latitude': 23.184136057365226},\n",
       "  {'cluster_id': 6,\n",
       "   'gps_id_belongs_to': [20],\n",
       "   'mean_longitude': 136.08714991746174,\n",
       "   'mean_latitude': 30.212420358410892},\n",
       "  {'cluster_id': 7,\n",
       "   'gps_id_belongs_to': [389],\n",
       "   'mean_longitude': 133.5891858797156,\n",
       "   'mean_latitude': 35.665700639220944}]}"
      ]
     },
     "execution_count": 243,
     "metadata": {},
     "output_type": "execute_result"
    }
   ],
   "source": [
    "response_gps_data"
   ]
  },
  {
   "cell_type": "code",
   "execution_count": null,
   "metadata": {},
   "outputs": [],
   "source": []
  },
  {
   "cell_type": "code",
   "execution_count": null,
   "metadata": {},
   "outputs": [],
   "source": []
  }
 ],
 "metadata": {
  "kernelspec": {
   "display_name": "Python 3",
   "language": "python",
   "name": "python3"
  },
  "language_info": {
   "codemirror_mode": {
    "name": "ipython",
    "version": 3
   },
   "file_extension": ".py",
   "mimetype": "text/x-python",
   "name": "python",
   "nbconvert_exporter": "python",
   "pygments_lexer": "ipython3",
   "version": "3.7.6"
  }
 },
 "nbformat": 4,
 "nbformat_minor": 4
}
